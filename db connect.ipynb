{
  "cells": [
    {
      "cell_type": "code",
      "execution_count": 40,
      "metadata": {
        "colab": {
          "base_uri": "https://localhost:8080/",
          "height": 696
        },
        "id": "bzgeOxGDcTvU",
        "outputId": "46d2ad19-bf22-4619-a66d-0ac5b6522709"
      },
      "outputs": [],
      "source": [
        "import pandas as pd\n",
        "import sqlite3\n",
        "from sqlite3 import Error\n",
        "\n",
        "data = pd.read_csv (\"C:/Users/SAI/Desktop/Zia project/Liver-Disease-Prediction-Project-main/Dataset/Liver_data.csv\")   \n",
        "df = pd.DataFrame(data)\n",
        "df2=df.replace('Male',0)\n",
        "df2=df2.replace('Female',1)"
      ]
    },
    {
      "cell_type": "code",
      "execution_count": 28,
      "metadata": {
        "id": "GnB6ajmkcxZ0"
      },
      "outputs": [],
      "source": [
        "def create_connection(db_file, delete_db=False):\n",
        "    import os\n",
        "    if delete_db and os.path.exists(db_file):\n",
        "        os.remove(db_file)\n",
        "\n",
        "    conn = None\n",
        "    try:\n",
        "        conn = sqlite3.connect(db_file)\n",
        "        conn.execute(\"PRAGMA foreign_keys = 1\")\n",
        "    except Error as e:\n",
        "        print(e)\n",
        "\n",
        "    return conn\n",
        "\n",
        "\n",
        "def create_table(conn, create_table_sql):\n",
        "    try:\n",
        "        c = conn.cursor()\n",
        "        c.execute(create_table_sql)\n",
        "    except Error as e:\n",
        "        print(e)\n",
        "        \n",
        "def execute_sql_statement(sql_statement, conn):\n",
        "    cur = conn.cursor()\n",
        "    cur.execute(sql_statement)\n",
        "\n",
        "    rows = cur.fetchall()\n",
        "\n",
        "    return rows\n",
        "conn=create_connection(\"project.db\")\n",
        "cur = conn.cursor()"
      ]
    },
    {
      "cell_type": "code",
      "execution_count": 29,
      "metadata": {},
      "outputs": [],
      "source": [
        "PatientID=[i for i in range(1,584)]\n",
        "df2[\"PatientID\"]=PatientID\n",
        "sql='''CREATE TABLE BioData (\n",
        "PatientID int primary Key,\n",
        "Age int,\n",
        "Gender int);'''\n",
        "create_table(conn,sql)\n",
        "for row in df2.itertuples():\n",
        "    cur.execute('''\n",
        "                INSERT INTO BioData (PatientID,Age,Gender)\n",
        "                VALUES (?,?,?);\n",
        "                ''',\n",
        "                (\n",
        "                row.PatientID,\n",
        "                row.Age,\n",
        "                row.Gender,\n",
        "                ))\n",
        "conn.commit()"
      ]
    },
    {
      "cell_type": "code",
      "execution_count": 30,
      "metadata": {},
      "outputs": [],
      "source": [
        "#### Bilirubin table\n",
        "sql='''CREATE TABLE Bilirubin (\n",
        "PatientID int primary key,\n",
        "Total_Bilirubin  num,\n",
        "Direct_Bilirubin num);'''\n",
        "create_table(conn,sql)\n",
        "for row in df2.itertuples():\n",
        "    cur.execute('''\n",
        "                INSERT INTO Bilirubin (PatientID,Total_Bilirubin,Direct_Bilirubin)\n",
        "                VALUES (?,?,?);\n",
        "                ''',\n",
        "                (\n",
        "                row.PatientID,\n",
        "                row.Total_Bilirubin,\n",
        "                row.Direct_Bilirubin,\n",
        "                ))\n",
        "conn.commit()"
      ]
    },
    {
      "cell_type": "code",
      "execution_count": 31,
      "metadata": {},
      "outputs": [],
      "source": [
        "##### Enzymes Table\n",
        "sql='''CREATE TABLE Enzymes (\n",
        "PatientID int primary Key,\n",
        "Alkaline_Phosphotase int,\n",
        "Alamine_Aminotransferase int,\n",
        "Aspartate_Aminotransferase int);'''\n",
        "create_table(conn,sql)\n",
        "for row in df2.itertuples():\n",
        "    cur.execute('''\n",
        "                INSERT INTO Enzymes (PatientID,Alkaline_Phosphotase,Alamine_Aminotransferase,Aspartate_Aminotransferase)\n",
        "                VALUES (?,?,?,?);\n",
        "                ''',\n",
        "                (\n",
        "                row.PatientID,\n",
        "                row.Alkaline_Phosphotase,\n",
        "                row.Alamine_Aminotransferase,\n",
        "                row.Aspartate_Aminotransferase\n",
        "                ))\n",
        "conn.commit()"
      ]
    },
    {
      "cell_type": "code",
      "execution_count": 32,
      "metadata": {},
      "outputs": [],
      "source": [
        "###### Protiens Table\n",
        "sql='''CREATE TABLE Protiens (\n",
        "PatientID int primary key,\n",
        "Total_Protiens num,\n",
        "Albumin num,\n",
        "Albumin_and_Globulin_Ratio num);'''\n",
        "create_table(conn,sql)\n",
        "for row in df2.itertuples():\n",
        "    cur.execute('''\n",
        "                INSERT INTO Protiens(PatientID,Total_Protiens,Albumin,Albumin_and_Globulin_Ratio)\n",
        "                VALUES (?,?,?,?);\n",
        "                ''',\n",
        "                (\n",
        "                row.PatientID,\n",
        "                row.Total_Protiens,\n",
        "                row.Albumin,\n",
        "                row.Albumin_and_Globulin_Ratio))\n",
        "conn.commit()"
      ]
    },
    {
      "cell_type": "code",
      "execution_count": 33,
      "metadata": {},
      "outputs": [],
      "source": [
        "#### Disease_non_Disease table\n",
        "sql='''CREATE TABLE Disease_non_Disease (\n",
        "PatientID int Primary Key,\n",
        "Dataset  int);'''\n",
        "create_table(conn,sql)\n",
        "for row in df2.itertuples():\n",
        "    cur.execute('''\n",
        "                INSERT INTO Disease_non_Disease(PatientID,Dataset)\n",
        "                VALUES (?,?);\n",
        "                ''',\n",
        "                (\n",
        "                row.PatientID,\n",
        "                row.Dataset))\n",
        "conn.commit()"
      ]
    }
  ],
  "metadata": {
    "colab": {
      "provenance": []
    },
    "kernelspec": {
      "display_name": "Python 3.10.8 64-bit (microsoft store)",
      "language": "python",
      "name": "python3"
    },
    "language_info": {
      "codemirror_mode": {
        "name": "ipython",
        "version": 3
      },
      "file_extension": ".py",
      "mimetype": "text/x-python",
      "name": "python",
      "nbconvert_exporter": "python",
      "pygments_lexer": "ipython3",
      "version": "3.10.8"
    },
    "vscode": {
      "interpreter": {
        "hash": "4db25c238ef8078727c5083d3b2a73a15cc3f7b506f9b1380a7467abcc33d726"
      }
    }
  },
  "nbformat": 4,
  "nbformat_minor": 0
}
